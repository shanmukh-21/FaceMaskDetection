{
 "cells": [
  {
   "cell_type": "code",
   "execution_count": 1,
   "id": "6770ddee",
   "metadata": {},
   "outputs": [],
   "source": [
    "# Step 1\n",
    "# importing libraries\n",
    "import tensorflow as tf\n",
    "from keras.preprocessing.image import ImageDataGenerator"
   ]
  },
  {
   "cell_type": "code",
   "execution_count": 4,
   "id": "61813c03",
   "metadata": {},
   "outputs": [
    {
     "name": "stdout",
     "output_type": "stream",
     "text": [
      "Found 10000 images belonging to 2 classes.\n"
     ]
    }
   ],
   "source": [
    "# Step 2\n",
    "# Data Preprocessing\n",
    "# Preprocessing the training data\n",
    "train_dataset=ImageDataGenerator(rescale=1./255,shear_range=0.2,zoom_range=0.2,horizontal_flip=True)\n",
    "training_data=train_dataset.flow_from_directory(\"C:/Users/kiran/Downloads/archive (22)/Face Mask Dataset/Train\",target_size=(64,64),batch_size=32,class_mode=\"binary\")"
   ]
  },
  {
   "cell_type": "code",
   "execution_count": 6,
   "id": "9688d284",
   "metadata": {},
   "outputs": [
    {
     "name": "stdout",
     "output_type": "stream",
     "text": [
      "Found 992 images belonging to 2 classes.\n"
     ]
    }
   ],
   "source": [
    "# Preprocessing the test data\n",
    "test_dataset=ImageDataGenerator(rescale=1./255,shear_range=0.2,zoom_range=0.2,horizontal_flip=True)\n",
    "testing_data=test_dataset.flow_from_directory(\"C:/Users/kiran/Downloads/archive (22)/Face Mask Dataset/Test\",target_size=(64,64),batch_size=32,class_mode=\"binary\")"
   ]
  },
  {
   "cell_type": "code",
   "execution_count": 7,
   "id": "26184ab5",
   "metadata": {},
   "outputs": [],
   "source": [
    "# Step 3\n",
    "# Building the CNN\n",
    "# Intialising the CNN\n",
    "cnn=tf.keras.models.Sequential()"
   ]
  },
  {
   "cell_type": "code",
   "execution_count": 8,
   "id": "003eaf55",
   "metadata": {},
   "outputs": [],
   "source": [
    "# adding the first layer of convolution\n",
    "cnn.add(tf.keras.layers.Conv2D(filters=32,kernel_size=3,activation=\"relu\",input_shape=(64,64,3)))"
   ]
  },
  {
   "cell_type": "code",
   "execution_count": 10,
   "id": "1792e030",
   "metadata": {},
   "outputs": [],
   "source": [
    "# adding the first layer of maxpooling\n",
    "cnn.add(tf.keras.layers.MaxPooling2D(pool_size=2,strides=2))"
   ]
  },
  {
   "cell_type": "code",
   "execution_count": 11,
   "id": "c81efb40",
   "metadata": {},
   "outputs": [],
   "source": [
    "# adding the first drpout layer\n",
    "cnn.add(tf.keras.layers.Dropout(0.5))"
   ]
  },
  {
   "cell_type": "code",
   "execution_count": 13,
   "id": "7e2de329",
   "metadata": {},
   "outputs": [],
   "source": [
    "# adding the second layer of convolution layer, maxpooling layer and dropout layer\n",
    "cnn.add(tf.keras.layers.Conv2D(filters=32,kernel_size=3,activation=\"relu\"))\n",
    "cnn.add(tf.keras.layers.MaxPooling2D(pool_size=2,strides=2))\n",
    "cnn.add(tf.keras.layers.Dropout(0.5))"
   ]
  },
  {
   "cell_type": "code",
   "execution_count": 14,
   "id": "191022d0",
   "metadata": {},
   "outputs": [],
   "source": [
    "# Flattening \n",
    "cnn.add(tf.keras.layers.Flatten())"
   ]
  },
  {
   "cell_type": "code",
   "execution_count": 15,
   "id": "80ef4ab6",
   "metadata": {},
   "outputs": [],
   "source": [
    "# Full connection\n",
    "cnn.add(tf.keras.layers.Dense(units=128,activation=\"relu\"))"
   ]
  },
  {
   "cell_type": "code",
   "execution_count": 16,
   "id": "c6d2c571",
   "metadata": {},
   "outputs": [],
   "source": [
    "# output layer\n",
    "cnn.add(tf.keras.layers.Dense(units=1,activation=\"sigmoid\"))"
   ]
  },
  {
   "cell_type": "code",
   "execution_count": 17,
   "id": "b04c8436",
   "metadata": {},
   "outputs": [],
   "source": [
    "# compiling the cnn\n",
    "cnn.compile(optimizer=\"adam\",loss=\"binary_crossentropy\",metrics=['accuracy'])"
   ]
  },
  {
   "cell_type": "code",
   "execution_count": 20,
   "id": "ba7b19f9",
   "metadata": {},
   "outputs": [
    {
     "name": "stdout",
     "output_type": "stream",
     "text": [
      "Epoch 1/20\n",
      "313/313 [==============================] - 584s 2s/step - loss: 0.1993 - accuracy: 0.9181 - val_loss: 0.1367 - val_accuracy: 0.9556\n",
      "Epoch 2/20\n",
      "313/313 [==============================] - 121s 388ms/step - loss: 0.0930 - accuracy: 0.9659 - val_loss: 0.0903 - val_accuracy: 0.9698\n",
      "Epoch 3/20\n",
      "313/313 [==============================] - 121s 385ms/step - loss: 0.0626 - accuracy: 0.9774 - val_loss: 0.0957 - val_accuracy: 0.9667\n",
      "Epoch 4/20\n",
      "313/313 [==============================] - 115s 368ms/step - loss: 0.0492 - accuracy: 0.9834 - val_loss: 0.0584 - val_accuracy: 0.9778\n",
      "Epoch 5/20\n",
      "313/313 [==============================] - 122s 389ms/step - loss: 0.0410 - accuracy: 0.9848 - val_loss: 0.0676 - val_accuracy: 0.9788\n",
      "Epoch 6/20\n",
      "313/313 [==============================] - 134s 429ms/step - loss: 0.0529 - accuracy: 0.9815 - val_loss: 0.0400 - val_accuracy: 0.9819\n",
      "Epoch 7/20\n",
      "313/313 [==============================] - 134s 429ms/step - loss: 0.0425 - accuracy: 0.9835 - val_loss: 0.0534 - val_accuracy: 0.9839\n",
      "Epoch 8/20\n",
      "313/313 [==============================] - 128s 410ms/step - loss: 0.0409 - accuracy: 0.9855 - val_loss: 0.0418 - val_accuracy: 0.9899\n",
      "Epoch 9/20\n",
      "313/313 [==============================] - 127s 404ms/step - loss: 0.0292 - accuracy: 0.9897 - val_loss: 0.0329 - val_accuracy: 0.9929\n",
      "Epoch 10/20\n",
      "313/313 [==============================] - 140s 446ms/step - loss: 0.0317 - accuracy: 0.9885 - val_loss: 0.0298 - val_accuracy: 0.9899\n",
      "Epoch 11/20\n",
      "313/313 [==============================] - 120s 384ms/step - loss: 0.0325 - accuracy: 0.9900 - val_loss: 0.0323 - val_accuracy: 0.9889\n",
      "Epoch 12/20\n",
      "313/313 [==============================] - 75s 240ms/step - loss: 0.0254 - accuracy: 0.9902 - val_loss: 0.0224 - val_accuracy: 0.9919\n",
      "Epoch 13/20\n",
      "313/313 [==============================] - 74s 237ms/step - loss: 0.0323 - accuracy: 0.9891 - val_loss: 0.0493 - val_accuracy: 0.9869\n",
      "Epoch 14/20\n",
      "313/313 [==============================] - 68s 217ms/step - loss: 0.0283 - accuracy: 0.9902 - val_loss: 0.0454 - val_accuracy: 0.9879\n",
      "Epoch 15/20\n",
      "313/313 [==============================] - 72s 230ms/step - loss: 0.0269 - accuracy: 0.9912 - val_loss: 0.0639 - val_accuracy: 0.9879\n",
      "Epoch 16/20\n",
      "313/313 [==============================] - 72s 230ms/step - loss: 0.0216 - accuracy: 0.9926 - val_loss: 0.0312 - val_accuracy: 0.9919\n",
      "Epoch 17/20\n",
      "313/313 [==============================] - 69s 220ms/step - loss: 0.0310 - accuracy: 0.9893 - val_loss: 0.0876 - val_accuracy: 0.9788\n",
      "Epoch 18/20\n",
      "313/313 [==============================] - 72s 231ms/step - loss: 0.0251 - accuracy: 0.9909 - val_loss: 0.0364 - val_accuracy: 0.9839\n",
      "Epoch 19/20\n",
      "313/313 [==============================] - 74s 236ms/step - loss: 0.0185 - accuracy: 0.9928 - val_loss: 0.0169 - val_accuracy: 0.9940\n",
      "Epoch 20/20\n",
      "313/313 [==============================] - 120s 383ms/step - loss: 0.0209 - accuracy: 0.9928 - val_loss: 0.0589 - val_accuracy: 0.9808\n"
     ]
    },
    {
     "data": {
      "text/plain": [
       "<keras.callbacks.History at 0x1d8fcef9310>"
      ]
     },
     "execution_count": 20,
     "metadata": {},
     "output_type": "execute_result"
    }
   ],
   "source": [
    "# training the cnn on the training set and evaluating it on the test set\n",
    "cnn.fit(training_data,validation_data=testing_data,epochs=20,batch_size=64)"
   ]
  },
  {
   "cell_type": "code",
   "execution_count": 22,
   "id": "74b020b6",
   "metadata": {},
   "outputs": [
    {
     "data": {
      "text/plain": [
       "{'WithMask': 0, 'WithoutMask': 1}"
      ]
     },
     "execution_count": 22,
     "metadata": {},
     "output_type": "execute_result"
    }
   ],
   "source": [
    "training_data.class_indices"
   ]
  },
  {
   "cell_type": "code",
   "execution_count": 25,
   "id": "bcb8007a",
   "metadata": {},
   "outputs": [
    {
     "name": "stdout",
     "output_type": "stream",
     "text": [
      "1/1 [==============================] - 1s 585ms/step\n",
      "With mask\n",
      "[[0.]]\n"
     ]
    }
   ],
   "source": [
    "# Part 4\n",
    "# Making a Single Predicition \n",
    "import numpy as np\n",
    "from keras.utils import load_img,img_to_array\n",
    "test_img=load_img(\"C:/Users/kiran/Downloads/archive (22)/Face Mask Dataset/Validation/WithMask/Augmented_866_708286.png\",target_size=(64,64))\n",
    "test_img=img_to_array(test_img)\n",
    "test_img=np.expand_dims(test_img,axis=0)\n",
    "result=cnn.predict(test_img)\n",
    "training_data.class_indices\n",
    "if(result[0][0]==1):\n",
    "    prediction=\"Without mask\"\n",
    "else:\n",
    "    prediction=\"With mask\"\n",
    "print(prediction)\n",
    "print(result)"
   ]
  },
  {
   "cell_type": "code",
   "execution_count": 26,
   "id": "1c2ca855",
   "metadata": {},
   "outputs": [
    {
     "name": "stdout",
     "output_type": "stream",
     "text": [
      "1/1 [==============================] - 0s 23ms/step\n",
      "1/1 [==============================] - 0s 21ms/step\n",
      "With mask\n",
      "[[0.]]\n"
     ]
    }
   ],
   "source": [
    "# Part 4\n",
    "# Making a Single Predicition \n",
    "import numpy as np\n",
    "from keras.utils import load_img,img_to_array\n",
    "test_img=load_img(\"C:/Users/kiran/Downloads/archive (22)/Face Mask Dataset/Validation/WithMask/Augmented_816_9937591.png\",target_size=(64,64))\n",
    "test_img=img_to_array(test_img)\n",
    "test_img=np.expand_dims(test_img,axis=0)\n",
    "result=cnn.predict(test_img)\n",
    "result=cnn.predict(test_img)\n",
    "training_data.class_indices\n",
    "if(result[0][0]==1):\n",
    "    prediction=\"Without mask\"\n",
    "else:\n",
    "    prediction=\"With mask\"\n",
    "print(prediction)\n",
    "print(result)"
   ]
  },
  {
   "cell_type": "code",
   "execution_count": 28,
   "id": "c952fc1c",
   "metadata": {},
   "outputs": [
    {
     "name": "stdout",
     "output_type": "stream",
     "text": [
      "1/1 [==============================] - 0s 23ms/step\n",
      "1/1 [==============================] - 0s 21ms/step\n",
      "Without mask\n",
      "[[1.]]\n"
     ]
    }
   ],
   "source": [
    "# Part 4\n",
    "# Making a Single Predicition \n",
    "import numpy as np\n",
    "from keras.utils import load_img,img_to_array\n",
    "test_img=load_img(\"C:/Users/kiran/Downloads/archive (22)/Face Mask Dataset/Validation/WithoutMask/5857.png\",target_size=(64,64))\n",
    "test_img=img_to_array(test_img)\n",
    "test_img=np.expand_dims(test_img,axis=0)\n",
    "result=cnn.predict(test_img)\n",
    "result=cnn.predict(test_img)\n",
    "training_data.class_indices\n",
    "if(result[0][0]==1):\n",
    "    prediction=\"Without mask\"\n",
    "else:\n",
    "    prediction=\"With mask\"\n",
    "print(prediction)\n",
    "print(result)"
   ]
  },
  {
   "cell_type": "code",
   "execution_count": 29,
   "id": "76afed13",
   "metadata": {},
   "outputs": [
    {
     "name": "stdout",
     "output_type": "stream",
     "text": [
      "1/1 [==============================] - 0s 21ms/step\n",
      "1/1 [==============================] - 0s 21ms/step\n",
      "Without mask\n",
      "[[1.]]\n"
     ]
    }
   ],
   "source": [
    "# Part 4\n",
    "# Making a Single Predicition \n",
    "import numpy as np\n",
    "from keras.utils import load_img,img_to_array\n",
    "test_img=load_img(\"C:/Users/kiran/Downloads/archive (22)/Face Mask Dataset/Validation/WithoutMask/4744.png\",target_size=(64,64))\n",
    "test_img=img_to_array(test_img)\n",
    "test_img=np.expand_dims(test_img,axis=0)\n",
    "result=cnn.predict(test_img)\n",
    "result=cnn.predict(test_img)\n",
    "training_data.class_indices\n",
    "if(result[0][0]==1):\n",
    "    prediction=\"Without mask\"\n",
    "else:\n",
    "    prediction=\"With mask\"\n",
    "print(prediction)\n",
    "print(result)"
   ]
  },
  {
   "cell_type": "code",
   "execution_count": null,
   "id": "2a3bd585",
   "metadata": {},
   "outputs": [],
   "source": []
  }
 ],
 "metadata": {
  "kernelspec": {
   "display_name": "Python 3 (ipykernel)",
   "language": "python",
   "name": "python3"
  },
  "language_info": {
   "codemirror_mode": {
    "name": "ipython",
    "version": 3
   },
   "file_extension": ".py",
   "mimetype": "text/x-python",
   "name": "python",
   "nbconvert_exporter": "python",
   "pygments_lexer": "ipython3",
   "version": "3.9.12"
  }
 },
 "nbformat": 4,
 "nbformat_minor": 5
}
